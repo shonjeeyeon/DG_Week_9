{
  "nbformat": 4,
  "nbformat_minor": 0,
  "metadata": {
    "colab": {
      "name": "Week_9.ipynb",
      "provenance": []
    },
    "kernelspec": {
      "name": "python3",
      "display_name": "Python 3"
    },
    "language_info": {
      "name": "python"
    }
  },
  "cells": [
    {
      "cell_type": "code",
      "source": [
        "#Import modules\n",
        "import pandas as pd\n",
        "import numpy as np"
      ],
      "metadata": {
        "id": "qfHbjR5tmWrv"
      },
      "execution_count": 244,
      "outputs": []
    },
    {
      "cell_type": "code",
      "source": [
        "#This dataset has 69 columns, so make sure all of the cols are displayed\n",
        "pd.set_option('display.max_rows', 50)\n",
        "pd.set_option('display.max_columns', 200)\n",
        "pd.set_option('display.width', 1000)"
      ],
      "metadata": {
        "id": "ymEepqmino-l"
      },
      "execution_count": 245,
      "outputs": []
    },
    {
      "cell_type": "code",
      "execution_count": 246,
      "metadata": {
        "id": "78vAT5BYmMQf"
      },
      "outputs": [],
      "source": [
        "#Open the csv file\n",
        "df=pd.read_csv('https://raw.githubusercontent.com/shonjeeyeon/DG_Week_8/main/Healthcare_dataset.csv')"
      ]
    },
    {
      "cell_type": "markdown",
      "source": [
        "# **`Overview of the file`**"
      ],
      "metadata": {
        "id": "3IAHgrqv96ei"
      }
    },
    {
      "cell_type": "code",
      "source": [
        "#Preview of the file\n",
        "\n",
        "print(df.head(10))\n",
        "print(df.tail(10))"
      ],
      "metadata": {
        "colab": {
          "base_uri": "https://localhost:8080/"
        },
        "id": "Cbi-a1ZtnLxI",
        "outputId": "9cd77a58-89ae-40f1-d16f-c280a4f3dd08"
      },
      "execution_count": 247,
      "outputs": [
        {
          "output_type": "stream",
          "name": "stdout",
          "text": [
            "  Ptid Persistency_Flag  Gender           Race     Ethnicity   Region Age_Bucket        Ntm_Speciality Ntm_Specialist_Flag      Ntm_Speciality_Bucket Gluco_Record_Prior_Ntm Gluco_Record_During_Rx  Dexa_Freq_During_Rx Dexa_During_Rx Frag_Frac_Prior_Ntm Frag_Frac_During_Rx Risk_Segment_Prior_Ntm Tscore_Bucket_Prior_Ntm Risk_Segment_During_Rx Tscore_Bucket_During_Rx Change_T_Score Change_Risk_Segment Adherent_Flag Idn_Indicator Injectable_Experience_During_Rx Comorb_Encounter_For_Screening_For_Malignant_Neoplasms Comorb_Encounter_For_Immunization Comorb_Encntr_For_General_Exam_W_O_Complaint,_Susp_Or_Reprtd_Dx Comorb_Vitamin_D_Deficiency Comorb_Other_Joint_Disorder_Not_Elsewhere_Classified Comorb_Encntr_For_Oth_Sp_Exam_W_O_Complaint_Suspected_Or_Reprtd_Dx Comorb_Long_Term_Current_Drug_Therapy Comorb_Dorsalgia Comorb_Personal_History_Of_Other_Diseases_And_Conditions Comorb_Other_Disorders_Of_Bone_Density_And_Structure Comorb_Disorders_of_lipoprotein_metabolism_and_other_lipidemias  \\\n",
            "0   P1       Persistent    Male      Caucasian  Not Hispanic     West        >75  GENERAL PRACTITIONER              Others  OB/GYN/Others/PCP/Unknown                      N                      N                    0              N                   N                   N                 VLR_LR                   >-2.5                 VLR_LR                  <=-2.5      No change             Unknown      Adherent             N                               Y                                                  N                                     Y                                                  Y                                        N                                                  N                                                    Y                                                     N                Y                                                  Y                                                        N                                                    N                \n",
            "1   P2   Non-Persistent    Male          Asian  Not Hispanic     West      55-65  GENERAL PRACTITIONER              Others  OB/GYN/Others/PCP/Unknown                      N                      N                    0              N                   N                   N                 VLR_LR                   >-2.5                Unknown                 Unknown        Unknown             Unknown      Adherent             N                               Y                                                  N                                     N                                                  Y                                        N                                                  N                                                    N                                                     N                N                                                  N                                                        N                                                    N                \n",
            "2   P3   Non-Persistent  Female  Other/Unknown      Hispanic  Midwest      65-75  GENERAL PRACTITIONER              Others  OB/GYN/Others/PCP/Unknown                      N                      N                    0              N                   N                   N                 HR_VHR                  <=-2.5                 HR_VHR                  <=-2.5      No change           No change      Adherent             N                               Y                                                  Y                                     N                                                  Y                                        N                                                  N                                                    N                                                     N                N                                                  N                                                        N                                                    N                \n",
            "3   P4   Non-Persistent  Female      Caucasian  Not Hispanic  Midwest        >75  GENERAL PRACTITIONER              Others  OB/GYN/Others/PCP/Unknown                      N                      Y                    0              N                   N                   N                 HR_VHR                   >-2.5                 HR_VHR                  <=-2.5      No change           No change      Adherent             N                               Y                                                  N                                     Y                                                  Y                                        N                                                  Y                                                    N                                                     N                Y                                                  N                                                        N                                                    Y                \n",
            "4   P5   Non-Persistent  Female      Caucasian  Not Hispanic  Midwest        >75  GENERAL PRACTITIONER              Others  OB/GYN/Others/PCP/Unknown                      Y                      Y                    0              N                   N                   N                 HR_VHR                  <=-2.5                Unknown                 Unknown        Unknown             Unknown      Adherent             N                               Y                                                  Y                                     Y                                                  Y                                        N                                                  N                                                    N                                                     N                Y                                                  Y                                                        N                                                    N                \n",
            "5   P6   Non-Persistent  Female      Caucasian  Not Hispanic  Midwest        >75  GENERAL PRACTITIONER              Others  OB/GYN/Others/PCP/Unknown                      N                      N                    0              N                   N                   N                 HR_VHR                  <=-2.5                Unknown                 Unknown        Unknown             Unknown      Adherent             N                               N                                                  N                                     N                                                  N                                        N                                                  N                                                    N                                                     N                N                                                  N                                                        N                                                    Y                \n",
            "6   P7   Non-Persistent  Female      Caucasian  Not Hispanic  Midwest        >75  GENERAL PRACTITIONER              Others  OB/GYN/Others/PCP/Unknown                      N                      N                    2              Y                   N                   N                 HR_VHR                  <=-2.5                Unknown                 Unknown        Unknown             Unknown      Adherent             N                               N                                                  N                                     Y                                                  Y                                        N                                                  N                                                    N                                                     N                N                                                  N                                                        N                                                    N                \n",
            "7   P8   Non-Persistent  Female      Caucasian  Not Hispanic  Midwest        >75  GENERAL PRACTITIONER              Others  OB/GYN/Others/PCP/Unknown                      Y                      Y                    0              N                   N                   N                 HR_VHR                  <=-2.5                 HR_VHR                  <=-2.5      No change           No change      Adherent             N                               Y                                                  N                                     N                                                  N                                        N                                                  N                                                    N                                                     N                N                                                  N                                                        N                                                    N                \n",
            "8   P9   Non-Persistent  Female      Caucasian  Not Hispanic  Midwest        >75  GENERAL PRACTITIONER              Others  OB/GYN/Others/PCP/Unknown                      N                      N                    0              N                   N                   N                 VLR_LR                   >-2.5                Unknown                 Unknown        Unknown             Unknown      Adherent             N                               N                                                  N                                     N                                                  N                                        N                                                  N                                                    N                                                     N                N                                                  N                                                        N                                                    N                \n",
            "9  P10   Non-Persistent  Female      Caucasian  Not Hispanic  Midwest        >75  GENERAL PRACTITIONER              Others  OB/GYN/Others/PCP/Unknown                      N                      N                    0              N                   N                   N                 HR_VHR                  <=-2.5                Unknown                 Unknown        Unknown             Unknown      Adherent             N                               Y                                                  Y                                     N                                                  N                                        N                                                  N                                                    N                                                     N                N                                                  N                                                        N                                                    N                \n",
            "\n",
            "  Comorb_Osteoporosis_without_current_pathological_fracture Comorb_Personal_history_of_malignant_neoplasm Comorb_Gastro_esophageal_reflux_disease Concom_Cholesterol_And_Triglyceride_Regulating_Preparations Concom_Narcotics Concom_Systemic_Corticosteroids_Plain Concom_Anti_Depressants_And_Mood_Stabilisers Concom_Fluoroquinolones Concom_Cephalosporins Concom_Macrolides_And_Similar_Types Concom_Broad_Spectrum_Penicillins Concom_Anaesthetics_General Concom_Viral_Vaccines Risk_Type_1_Insulin_Dependent_Diabetes Risk_Osteogenesis_Imperfecta Risk_Rheumatoid_Arthritis Risk_Untreated_Chronic_Hyperthyroidism Risk_Untreated_Chronic_Hypogonadism Risk_Untreated_Early_Menopause Risk_Patient_Parent_Fractured_Their_Hip Risk_Smoking_Tobacco Risk_Chronic_Malnutrition_Or_Malabsorption Risk_Chronic_Liver_Disease Risk_Family_History_Of_Osteoporosis Risk_Low_Calcium_Intake Risk_Vitamin_D_Insufficiency Risk_Poor_Health_Frailty Risk_Excessive_Thinness Risk_Hysterectomy_Oophorectomy Risk_Estrogen_Deficiency  \\\n",
            "0                                                  N                                                    N                                       N                                                  N                         N                                     N                                            N                       N                     N                                   N                                 N                           N                     N                                      N                            N                         N                                      N                                   N                              N                                       N                    N                                          N                          N                                   N                       N                            N                        N                       N                              N                        N   \n",
            "1                                                  N                                                    N                                       N                                                  N                         N                                     N                                            N                       N                     N                                   N                                 N                           N                     N                                      N                            N                         N                                      N                                   N                              N                                       N                    N                                          N                          N                                   N                       N                            N                        N                       N                              N                        N   \n",
            "2                                                  N                                                    N                                       N                                                  Y                         N                                     N                                            N                       N                     N                                   N                                 N                           N                     N                                      N                            N                         N                                      N                                   N                              N                                       Y                    N                                          N                          N                                   N                       Y                            N                        N                       N                              N                        N   \n",
            "3                                                  N                                                    N                                       Y                                                  N                         Y                                     Y                                            N                       N                     N                                   N                                 N                           N                     Y                                      N                            N                         N                                      N                                   N                              N                                       N                    Y                                          N                          N                                   N                       N                            N                        N                       N                              N                        N   \n",
            "4                                                  N                                                    N                                       N                                                  N                         Y                                     Y                                            Y                       N                     N                                   N                                 N                           N                     N                                      N                            N                         N                                      N                                   N                              N                                       N                    Y                                          N                          N                                   N                       N                            N                        N                       N                              N                        N   \n",
            "5                                                  N                                                    N                                       N                                                  Y                         N                                     N                                            N                       N                     N                                   N                                 N                           N                     N                                      N                            N                         N                                      N                                   N                              N                                       N                    Y                                          N                          N                                   Y                       N                            N                        N                       N                              N                        N   \n",
            "6                                                  N                                                    N                                       Y                                                  N                         N                                     N                                            Y                       N                     N                                   Y                                 N                           N                     N                                      N                            N                         Y                                      N                                   N                              N                                       N                    N                                          N                          N                                   N                       N                            N                        N                       N                              N                        N   \n",
            "7                                                  N                                                    N                                       N                                                  N                         N                                     Y                                            N                       N                     N                                   N                                 N                           N                     N                                      N                            N                         N                                      N                                   N                              N                                       N                    N                                          Y                          N                                   N                       N                            N                        N                       N                              N                        N   \n",
            "8                                                  N                                                    N                                       N                                                  N                         N                                     N                                            N                       N                     N                                   N                                 N                           N                     N                                      N                            N                         N                                      N                                   N                              N                                       N                    N                                          N                          N                                   Y                       N                            N                        N                       N                              N                        N   \n",
            "9                                                  N                                                    N                                       N                                                  N                         N                                     N                                            N                       N                     N                                   N                                 N                           N                     N                                      N                            N                         N                                      N                                   N                              N                                       N                    N                                          Y                          N                                   N                       N                            N                        N                       N                              N                        N   \n",
            "\n",
            "  Risk_Immobilization Risk_Recurring_Falls  Count_Of_Risks  \n",
            "0                   N                    N               0  \n",
            "1                   N                    N               0  \n",
            "2                   N                    N               2  \n",
            "3                   N                    N               1  \n",
            "4                   N                    N               1  \n",
            "5                   N                    N               2  \n",
            "6                   N                    N               1  \n",
            "7                   N                    N               1  \n",
            "8                   N                    N               1  \n",
            "9                   N                    N               1  \n",
            "       Ptid Persistency_Flag  Gender       Race     Ethnicity Region Age_Bucket        Ntm_Speciality Ntm_Specialist_Flag      Ntm_Speciality_Bucket Gluco_Record_Prior_Ntm Gluco_Record_During_Rx  Dexa_Freq_During_Rx Dexa_During_Rx Frag_Frac_Prior_Ntm Frag_Frac_During_Rx Risk_Segment_Prior_Ntm Tscore_Bucket_Prior_Ntm Risk_Segment_During_Rx Tscore_Bucket_During_Rx Change_T_Score Change_Risk_Segment Adherent_Flag Idn_Indicator Injectable_Experience_During_Rx Comorb_Encounter_For_Screening_For_Malignant_Neoplasms Comorb_Encounter_For_Immunization Comorb_Encntr_For_General_Exam_W_O_Complaint,_Susp_Or_Reprtd_Dx Comorb_Vitamin_D_Deficiency Comorb_Other_Joint_Disorder_Not_Elsewhere_Classified Comorb_Encntr_For_Oth_Sp_Exam_W_O_Complaint_Suspected_Or_Reprtd_Dx Comorb_Long_Term_Current_Drug_Therapy Comorb_Dorsalgia Comorb_Personal_History_Of_Other_Diseases_And_Conditions Comorb_Other_Disorders_Of_Bone_Density_And_Structure Comorb_Disorders_of_lipoprotein_metabolism_and_other_lipidemias  \\\n",
            "3414  P3415       Persistent  Female  Caucasian  Not Hispanic  South        >75  GENERAL PRACTITIONER              Others  OB/GYN/Others/PCP/Unknown                      Y                      N                    8              Y                   N                   N                 VLR_LR                   >-2.5                 VLR_LR                   >-2.5      No change             Unknown      Adherent             Y                               Y                                                  N                                     Y                                                  N                                        N                                                  N                                                    N                                                     N                N                                                  N                                                        N                                                    N                \n",
            "3415  P3416   Non-Persistent  Female  Caucasian  Not Hispanic  South        >75           ORTHOPEDICS              Others  OB/GYN/Others/PCP/Unknown                      N                      N                    0              N                   Y                   N                 VLR_LR                   >-2.5                Unknown                 Unknown        Unknown             Unknown      Adherent             Y                               Y                                                  Y                                     N                                                  N                                        N                                                  N                                                    N                                                     N                N                                                  N                                                        N                                                    Y                \n",
            "3416  P3417       Persistent  Female  Caucasian  Not Hispanic  South        >75  GENERAL PRACTITIONER              Others  OB/GYN/Others/PCP/Unknown                      N                      Y                    0              N                   N                   Y                 VLR_LR                   >-2.5                 HR_VHR                   >-2.5      No change            Worsened  Non-Adherent             Y                               Y                                                  Y                                     N                                                  N                                        N                                                  Y                                                    N                                                     N                Y                                                  N                                                        Y                                                    Y                \n",
            "3417  P3418   Non-Persistent  Female  Caucasian  Not Hispanic  South      55-65               Unknown              Others  OB/GYN/Others/PCP/Unknown                      N                      N                    0              N                   N                   N                 VLR_LR                   >-2.5                Unknown                 Unknown        Unknown             Unknown      Adherent             Y                               Y                                                  N                                     N                                                  N                                        N                                                  N                                                    N                                                     N                N                                                  N                                                        N                                                    N                \n",
            "3418  P3419   Non-Persistent  Female  Caucasian  Not Hispanic  South      65-75               Unknown              Others  OB/GYN/Others/PCP/Unknown                      Y                      N                    0              N                   N                   N                 VLR_LR                   >-2.5                Unknown                 Unknown        Unknown             Unknown      Adherent             Y                               Y                                                  N                                     N                                                  N                                        N                                                  N                                                    N                                                     N                N                                                  N                                                        N                                                    N                \n",
            "3419  P3420       Persistent  Female  Caucasian  Not Hispanic  South        >75  GENERAL PRACTITIONER              Others  OB/GYN/Others/PCP/Unknown                      N                      N                    0              N                   N                   N                 VLR_LR                   >-2.5                Unknown                 Unknown        Unknown             Unknown      Adherent             Y                               Y                                                  Y                                     N                                                  Y                                        Y                                                  N                                                    N                                                     N                Y                                                  N                                                        Y                                                    Y                \n",
            "3420  P3421       Persistent  Female  Caucasian  Not Hispanic  South        >75               Unknown              Others  OB/GYN/Others/PCP/Unknown                      N                      N                    0              N                   N                   N                 HR_VHR                  <=-2.5                Unknown                 Unknown        Unknown             Unknown  Non-Adherent             Y                               Y                                                  N                                     N                                                  N                                        N                                                  N                                                    N                                                     N                N                                                  N                                                        N                                                    N                \n",
            "3421  P3422       Persistent  Female  Caucasian  Not Hispanic  South        >75         ENDOCRINOLOGY          Specialist               Endo/Onc/Uro                      N                      N                    7              Y                   N                   N                 VLR_LR                   >-2.5                 HR_VHR                  <=-2.5      No change            Worsened      Adherent             Y                               Y                                                  Y                                     N                                                  N                                        Y                                                  Y                                                    N                                                     N                N                                                  N                                                        N                                                    Y                \n",
            "3422  P3423   Non-Persistent  Female  Caucasian  Not Hispanic  South      55-65               Unknown              Others  OB/GYN/Others/PCP/Unknown                      N                      N                    0              N                   N                   Y                 VLR_LR                   >-2.5                Unknown                 Unknown        Unknown             Unknown      Adherent             Y                               Y                                                  Y                                     N                                                  N                                        N                                                  N                                                    N                                                     N                N                                                  N                                                        N                                                    Y                \n",
            "3423  P3424   Non-Persistent  Female  Caucasian  Not Hispanic  South      65-75               Unknown              Others  OB/GYN/Others/PCP/Unknown                      Y                      Y                    0              N                   N                   N                 VLR_LR                   >-2.5                Unknown                 Unknown        Unknown             Unknown      Adherent             Y                               Y                                                  N                                     N                                                  N                                        Y                                                  N                                                    N                                                     N                N                                                  N                                                        N                                                    N                \n",
            "\n",
            "     Comorb_Osteoporosis_without_current_pathological_fracture Comorb_Personal_history_of_malignant_neoplasm Comorb_Gastro_esophageal_reflux_disease Concom_Cholesterol_And_Triglyceride_Regulating_Preparations Concom_Narcotics Concom_Systemic_Corticosteroids_Plain Concom_Anti_Depressants_And_Mood_Stabilisers Concom_Fluoroquinolones Concom_Cephalosporins Concom_Macrolides_And_Similar_Types Concom_Broad_Spectrum_Penicillins Concom_Anaesthetics_General Concom_Viral_Vaccines Risk_Type_1_Insulin_Dependent_Diabetes Risk_Osteogenesis_Imperfecta Risk_Rheumatoid_Arthritis Risk_Untreated_Chronic_Hyperthyroidism Risk_Untreated_Chronic_Hypogonadism Risk_Untreated_Early_Menopause Risk_Patient_Parent_Fractured_Their_Hip Risk_Smoking_Tobacco Risk_Chronic_Malnutrition_Or_Malabsorption Risk_Chronic_Liver_Disease Risk_Family_History_Of_Osteoporosis Risk_Low_Calcium_Intake Risk_Vitamin_D_Insufficiency Risk_Poor_Health_Frailty Risk_Excessive_Thinness Risk_Hysterectomy_Oophorectomy  \\\n",
            "3414                                                  N                                                    N                                       N                                                  N                         N                                     N                                            N                       N                     N                                   N                                 N                           N                     N                                      N                            N                         N                                      N                                   N                              N                                       N                    N                                          N                          N                                   N                       N                            N                        N                       N                              N   \n",
            "3415                                                  N                                                    N                                       N                                                  N                         Y                                     N                                            N                       N                     N                                   N                                 N                           N                     N                                      N                            N                         N                                      N                                   N                              N                                       N                    N                                          N                          N                                   N                       N                            N                        Y                       N                              N   \n",
            "3416                                                  N                                                    N                                       N                                                  Y                         Y                                     Y                                            Y                       Y                     Y                                   Y                                 Y                           Y                     N                                      N                            N                         N                                      N                                   N                              N                                       N                    Y                                          Y                          N                                   N                       N                            N                        N                       N                              N   \n",
            "3417                                                  N                                                    N                                       N                                                  N                         Y                                     N                                            Y                       N                     Y                                   Y                                 N                           N                     N                                      N                            N                         N                                      N                                   N                              N                                       N                    N                                          N                          N                                   N                       N                            Y                        N                       N                              N   \n",
            "3418                                                  N                                                    N                                       N                                                  Y                         N                                     N                                            Y                       N                     N                                   N                                 N                           N                     N                                      N                            N                         N                                      N                                   N                              N                                       N                    N                                          N                          N                                   N                       N                            Y                        N                       N                              N   \n",
            "3419                                                  N                                                    N                                       Y                                                  Y                         Y                                     Y                                            Y                       Y                     N                                   N                                 N                           N                     N                                      N                            N                         N                                      N                                   N                              N                                       N                    N                                          N                          N                                   N                       N                            Y                        N                       N                              N   \n",
            "3420                                                  N                                                    N                                       N                                                  N                         N                                     N                                            Y                       N                     Y                                   N                                 N                           N                     N                                      N                            N                         N                                      N                                   N                              N                                       N                    N                                          N                          N                                   N                       N                            N                        N                       N                              N   \n",
            "3421                                                  N                                                    N                                       N                                                  Y                         Y                                     N                                            N                       N                     N                                   N                                 N                           Y                     N                                      N                            N                         N                                      N                                   N                              N                                       N                    N                                          N                          N                                   N                       N                            Y                        N                       N                              N   \n",
            "3422                                                  N                                                    N                                       N                                                  N                         Y                                     N                                            Y                       N                     N                                   N                                 N                           N                     N                                      N                            N                         N                                      N                                   N                              N                                       N                    N                                          N                          N                                   N                       N                            N                        N                       N                              N   \n",
            "3423                                                  N                                                    N                                       N                                                  N                         Y                                     N                                            Y                       N                     N                                   N                                 N                           N                     N                                      N                            N                         N                                      N                                   N                              N                                       N                    N                                          N                          N                                   N                       N                            Y                        N                       N                              N   \n",
            "\n",
            "     Risk_Estrogen_Deficiency Risk_Immobilization Risk_Recurring_Falls  Count_Of_Risks  \n",
            "3414                        N                   N                    N               0  \n",
            "3415                        N                   N                    N               1  \n",
            "3416                        N                   N                    N               2  \n",
            "3417                        N                   N                    N               1  \n",
            "3418                        N                   N                    N               1  \n",
            "3419                        N                   N                    N               1  \n",
            "3420                        N                   N                    N               0  \n",
            "3421                        N                   N                    N               1  \n",
            "3422                        N                   N                    N               0  \n",
            "3423                        N                   N                    N               1  \n"
          ]
        }
      ]
    },
    {
      "cell_type": "code",
      "source": [
        "#Number of cols and rows\n",
        "\n",
        "print(df.shape)"
      ],
      "metadata": {
        "colab": {
          "base_uri": "https://localhost:8080/"
        },
        "id": "qVBgUiPmn-Uf",
        "outputId": "69b968f7-f373-4797-ec39-4d7f4d759f5b"
      },
      "execution_count": 248,
      "outputs": [
        {
          "output_type": "stream",
          "name": "stdout",
          "text": [
            "(3424, 69)\n"
          ]
        }
      ]
    },
    {
      "cell_type": "code",
      "source": [
        "#Check for null values\n",
        "\n",
        "print(df.isna().sum())"
      ],
      "metadata": {
        "colab": {
          "base_uri": "https://localhost:8080/"
        },
        "id": "y8MruWx4nVeR",
        "outputId": "b89b06aa-3918-459d-b76d-ef6ca96f0e6b"
      },
      "execution_count": 249,
      "outputs": [
        {
          "output_type": "stream",
          "name": "stdout",
          "text": [
            "Ptid                              0\n",
            "Persistency_Flag                  0\n",
            "Gender                            0\n",
            "Race                              0\n",
            "Ethnicity                         0\n",
            "                                 ..\n",
            "Risk_Hysterectomy_Oophorectomy    0\n",
            "Risk_Estrogen_Deficiency          0\n",
            "Risk_Immobilization               0\n",
            "Risk_Recurring_Falls              0\n",
            "Count_Of_Risks                    0\n",
            "Length: 69, dtype: int64\n"
          ]
        }
      ]
    },
    {
      "cell_type": "code",
      "source": [
        "#Check for duplicates\n",
        "\n",
        "print(df.duplicated().sum())"
      ],
      "metadata": {
        "colab": {
          "base_uri": "https://localhost:8080/"
        },
        "id": "R3XjyBc5oQq4",
        "outputId": "01e2f3b5-2c81-431a-9d0f-b92b8968653e"
      },
      "execution_count": 250,
      "outputs": [
        {
          "output_type": "stream",
          "name": "stdout",
          "text": [
            "0\n"
          ]
        }
      ]
    },
    {
      "cell_type": "code",
      "source": [
        "#Data type of each column\n",
        "\n",
        "print(df.info())"
      ],
      "metadata": {
        "colab": {
          "base_uri": "https://localhost:8080/"
        },
        "id": "7VPeuvpFobr_",
        "outputId": "d303d9b3-20f1-42b2-e708-c0725c679ff0"
      },
      "execution_count": 251,
      "outputs": [
        {
          "output_type": "stream",
          "name": "stdout",
          "text": [
            "<class 'pandas.core.frame.DataFrame'>\n",
            "RangeIndex: 3424 entries, 0 to 3423\n",
            "Data columns (total 69 columns):\n",
            " #   Column                                                              Non-Null Count  Dtype \n",
            "---  ------                                                              --------------  ----- \n",
            " 0   Ptid                                                                3424 non-null   object\n",
            " 1   Persistency_Flag                                                    3424 non-null   object\n",
            " 2   Gender                                                              3424 non-null   object\n",
            " 3   Race                                                                3424 non-null   object\n",
            " 4   Ethnicity                                                           3424 non-null   object\n",
            " 5   Region                                                              3424 non-null   object\n",
            " 6   Age_Bucket                                                          3424 non-null   object\n",
            " 7   Ntm_Speciality                                                      3424 non-null   object\n",
            " 8   Ntm_Specialist_Flag                                                 3424 non-null   object\n",
            " 9   Ntm_Speciality_Bucket                                               3424 non-null   object\n",
            " 10  Gluco_Record_Prior_Ntm                                              3424 non-null   object\n",
            " 11  Gluco_Record_During_Rx                                              3424 non-null   object\n",
            " 12  Dexa_Freq_During_Rx                                                 3424 non-null   int64 \n",
            " 13  Dexa_During_Rx                                                      3424 non-null   object\n",
            " 14  Frag_Frac_Prior_Ntm                                                 3424 non-null   object\n",
            " 15  Frag_Frac_During_Rx                                                 3424 non-null   object\n",
            " 16  Risk_Segment_Prior_Ntm                                              3424 non-null   object\n",
            " 17  Tscore_Bucket_Prior_Ntm                                             3424 non-null   object\n",
            " 18  Risk_Segment_During_Rx                                              3424 non-null   object\n",
            " 19  Tscore_Bucket_During_Rx                                             3424 non-null   object\n",
            " 20  Change_T_Score                                                      3424 non-null   object\n",
            " 21  Change_Risk_Segment                                                 3424 non-null   object\n",
            " 22  Adherent_Flag                                                       3424 non-null   object\n",
            " 23  Idn_Indicator                                                       3424 non-null   object\n",
            " 24  Injectable_Experience_During_Rx                                     3424 non-null   object\n",
            " 25  Comorb_Encounter_For_Screening_For_Malignant_Neoplasms              3424 non-null   object\n",
            " 26  Comorb_Encounter_For_Immunization                                   3424 non-null   object\n",
            " 27  Comorb_Encntr_For_General_Exam_W_O_Complaint,_Susp_Or_Reprtd_Dx     3424 non-null   object\n",
            " 28  Comorb_Vitamin_D_Deficiency                                         3424 non-null   object\n",
            " 29  Comorb_Other_Joint_Disorder_Not_Elsewhere_Classified                3424 non-null   object\n",
            " 30  Comorb_Encntr_For_Oth_Sp_Exam_W_O_Complaint_Suspected_Or_Reprtd_Dx  3424 non-null   object\n",
            " 31  Comorb_Long_Term_Current_Drug_Therapy                               3424 non-null   object\n",
            " 32  Comorb_Dorsalgia                                                    3424 non-null   object\n",
            " 33  Comorb_Personal_History_Of_Other_Diseases_And_Conditions            3424 non-null   object\n",
            " 34  Comorb_Other_Disorders_Of_Bone_Density_And_Structure                3424 non-null   object\n",
            " 35  Comorb_Disorders_of_lipoprotein_metabolism_and_other_lipidemias     3424 non-null   object\n",
            " 36  Comorb_Osteoporosis_without_current_pathological_fracture           3424 non-null   object\n",
            " 37  Comorb_Personal_history_of_malignant_neoplasm                       3424 non-null   object\n",
            " 38  Comorb_Gastro_esophageal_reflux_disease                             3424 non-null   object\n",
            " 39  Concom_Cholesterol_And_Triglyceride_Regulating_Preparations         3424 non-null   object\n",
            " 40  Concom_Narcotics                                                    3424 non-null   object\n",
            " 41  Concom_Systemic_Corticosteroids_Plain                               3424 non-null   object\n",
            " 42  Concom_Anti_Depressants_And_Mood_Stabilisers                        3424 non-null   object\n",
            " 43  Concom_Fluoroquinolones                                             3424 non-null   object\n",
            " 44  Concom_Cephalosporins                                               3424 non-null   object\n",
            " 45  Concom_Macrolides_And_Similar_Types                                 3424 non-null   object\n",
            " 46  Concom_Broad_Spectrum_Penicillins                                   3424 non-null   object\n",
            " 47  Concom_Anaesthetics_General                                         3424 non-null   object\n",
            " 48  Concom_Viral_Vaccines                                               3424 non-null   object\n",
            " 49  Risk_Type_1_Insulin_Dependent_Diabetes                              3424 non-null   object\n",
            " 50  Risk_Osteogenesis_Imperfecta                                        3424 non-null   object\n",
            " 51  Risk_Rheumatoid_Arthritis                                           3424 non-null   object\n",
            " 52  Risk_Untreated_Chronic_Hyperthyroidism                              3424 non-null   object\n",
            " 53  Risk_Untreated_Chronic_Hypogonadism                                 3424 non-null   object\n",
            " 54  Risk_Untreated_Early_Menopause                                      3424 non-null   object\n",
            " 55  Risk_Patient_Parent_Fractured_Their_Hip                             3424 non-null   object\n",
            " 56  Risk_Smoking_Tobacco                                                3424 non-null   object\n",
            " 57  Risk_Chronic_Malnutrition_Or_Malabsorption                          3424 non-null   object\n",
            " 58  Risk_Chronic_Liver_Disease                                          3424 non-null   object\n",
            " 59  Risk_Family_History_Of_Osteoporosis                                 3424 non-null   object\n",
            " 60  Risk_Low_Calcium_Intake                                             3424 non-null   object\n",
            " 61  Risk_Vitamin_D_Insufficiency                                        3424 non-null   object\n",
            " 62  Risk_Poor_Health_Frailty                                            3424 non-null   object\n",
            " 63  Risk_Excessive_Thinness                                             3424 non-null   object\n",
            " 64  Risk_Hysterectomy_Oophorectomy                                      3424 non-null   object\n",
            " 65  Risk_Estrogen_Deficiency                                            3424 non-null   object\n",
            " 66  Risk_Immobilization                                                 3424 non-null   object\n",
            " 67  Risk_Recurring_Falls                                                3424 non-null   object\n",
            " 68  Count_Of_Risks                                                      3424 non-null   int64 \n",
            "dtypes: int64(2), object(67)\n",
            "memory usage: 1.8+ MB\n",
            "None\n"
          ]
        }
      ]
    },
    {
      "cell_type": "code",
      "source": [
        "#Find unique values in columns\n",
        "\n",
        "for col in df:\n",
        "  print(col,df[col].unique())"
      ],
      "metadata": {
        "colab": {
          "base_uri": "https://localhost:8080/"
        },
        "id": "4sMZnT8_yNRC",
        "outputId": "6871def6-3dba-41d9-eba2-74ef4df3dad3"
      },
      "execution_count": 252,
      "outputs": [
        {
          "output_type": "stream",
          "name": "stdout",
          "text": [
            "Ptid ['P1' 'P2' 'P3' ... 'P3422' 'P3423' 'P3424']\n",
            "Persistency_Flag ['Persistent' 'Non-Persistent']\n",
            "Gender ['Male' 'Female']\n",
            "Race ['Caucasian' 'Asian' 'Other/Unknown' 'African American']\n",
            "Ethnicity ['Not Hispanic' 'Hispanic' 'Unknown']\n",
            "Region ['West' 'Midwest' 'South' 'Other/Unknown' 'Northeast']\n",
            "Age_Bucket ['>75' '55-65' '65-75' '<55']\n",
            "Ntm_Speciality ['GENERAL PRACTITIONER' 'Unknown' 'ENDOCRINOLOGY' 'RHEUMATOLOGY'\n",
            " 'ONCOLOGY' 'PATHOLOGY' 'OBSTETRICS AND GYNECOLOGY'\n",
            " 'PSYCHIATRY AND NEUROLOGY' 'ORTHOPEDIC SURGERY'\n",
            " 'PHYSICAL MEDICINE AND REHABILITATION' 'SURGERY AND SURGICAL SPECIALTIES'\n",
            " 'PEDIATRICS' 'PULMONARY MEDICINE' 'HEMATOLOGY & ONCOLOGY' 'UROLOGY'\n",
            " 'PAIN MEDICINE' 'NEUROLOGY' 'RADIOLOGY' 'GASTROENTEROLOGY'\n",
            " 'EMERGENCY MEDICINE' 'PODIATRY' 'OPHTHALMOLOGY' 'OCCUPATIONAL MEDICINE'\n",
            " 'TRANSPLANT SURGERY' 'PLASTIC SURGERY' 'CLINICAL NURSE SPECIALIST'\n",
            " 'OTOLARYNGOLOGY' 'HOSPITAL MEDICINE' 'ORTHOPEDICS' 'NEPHROLOGY'\n",
            " 'GERIATRIC MEDICINE' 'HOSPICE AND PALLIATIVE MEDICINE'\n",
            " 'OBSTETRICS & OBSTETRICS & GYNECOLOGY & OBSTETRICS & GYNECOLOGY'\n",
            " 'VASCULAR SURGERY' 'CARDIOLOGY' 'NUCLEAR MEDICINE']\n",
            "Ntm_Specialist_Flag ['Others' 'Specialist']\n",
            "Ntm_Speciality_Bucket ['OB/GYN/Others/PCP/Unknown' 'Endo/Onc/Uro' 'Rheum']\n",
            "Gluco_Record_Prior_Ntm ['N' 'Y']\n",
            "Gluco_Record_During_Rx ['N' 'Y']\n",
            "Dexa_Freq_During_Rx [  0   2   7   3   5  20  13   1   6  12   4  10  25  11  18  21  15  28\n",
            "  22  37  14   8   9  17  81  42  16  30  19  45  27  24  58  26  23  33\n",
            " 110  36  34  88  66  32 118  48  69  38  40  68  52  50 146  44  35  39\n",
            " 108  54  72  29]\n",
            "Dexa_During_Rx ['N' 'Y']\n",
            "Frag_Frac_Prior_Ntm ['N' 'Y']\n",
            "Frag_Frac_During_Rx ['N' 'Y']\n",
            "Risk_Segment_Prior_Ntm ['VLR_LR' 'HR_VHR']\n",
            "Tscore_Bucket_Prior_Ntm ['>-2.5' '<=-2.5']\n",
            "Risk_Segment_During_Rx ['VLR_LR' 'Unknown' 'HR_VHR']\n",
            "Tscore_Bucket_During_Rx ['<=-2.5' 'Unknown' '>-2.5']\n",
            "Change_T_Score ['No change' 'Unknown' 'Worsened' 'Improved']\n",
            "Change_Risk_Segment ['Unknown' 'No change' 'Worsened' 'Improved']\n",
            "Adherent_Flag ['Adherent' 'Non-Adherent']\n",
            "Idn_Indicator ['N' 'Y']\n",
            "Injectable_Experience_During_Rx ['Y' 'N']\n",
            "Comorb_Encounter_For_Screening_For_Malignant_Neoplasms ['N' 'Y']\n",
            "Comorb_Encounter_For_Immunization ['Y' 'N']\n",
            "Comorb_Encntr_For_General_Exam_W_O_Complaint,_Susp_Or_Reprtd_Dx ['Y' 'N']\n",
            "Comorb_Vitamin_D_Deficiency ['N' 'Y']\n",
            "Comorb_Other_Joint_Disorder_Not_Elsewhere_Classified ['N' 'Y']\n",
            "Comorb_Encntr_For_Oth_Sp_Exam_W_O_Complaint_Suspected_Or_Reprtd_Dx ['Y' 'N']\n",
            "Comorb_Long_Term_Current_Drug_Therapy ['N' 'Y']\n",
            "Comorb_Dorsalgia ['Y' 'N']\n",
            "Comorb_Personal_History_Of_Other_Diseases_And_Conditions ['Y' 'N']\n",
            "Comorb_Other_Disorders_Of_Bone_Density_And_Structure ['N' 'Y']\n",
            "Comorb_Disorders_of_lipoprotein_metabolism_and_other_lipidemias ['N' 'Y']\n",
            "Comorb_Osteoporosis_without_current_pathological_fracture ['N' 'Y']\n",
            "Comorb_Personal_history_of_malignant_neoplasm ['N' 'Y']\n",
            "Comorb_Gastro_esophageal_reflux_disease ['N' 'Y']\n",
            "Concom_Cholesterol_And_Triglyceride_Regulating_Preparations ['N' 'Y']\n",
            "Concom_Narcotics ['N' 'Y']\n",
            "Concom_Systemic_Corticosteroids_Plain ['N' 'Y']\n",
            "Concom_Anti_Depressants_And_Mood_Stabilisers ['N' 'Y']\n",
            "Concom_Fluoroquinolones ['N' 'Y']\n",
            "Concom_Cephalosporins ['N' 'Y']\n",
            "Concom_Macrolides_And_Similar_Types ['N' 'Y']\n",
            "Concom_Broad_Spectrum_Penicillins ['N' 'Y']\n",
            "Concom_Anaesthetics_General ['N' 'Y']\n",
            "Concom_Viral_Vaccines ['N' 'Y']\n",
            "Risk_Type_1_Insulin_Dependent_Diabetes ['N' 'Y']\n",
            "Risk_Osteogenesis_Imperfecta ['N' 'Y']\n",
            "Risk_Rheumatoid_Arthritis ['N' 'Y']\n",
            "Risk_Untreated_Chronic_Hyperthyroidism ['N' 'Y']\n",
            "Risk_Untreated_Chronic_Hypogonadism ['N' 'Y']\n",
            "Risk_Untreated_Early_Menopause ['N' 'Y']\n",
            "Risk_Patient_Parent_Fractured_Their_Hip ['N' 'Y']\n",
            "Risk_Smoking_Tobacco ['N' 'Y']\n",
            "Risk_Chronic_Malnutrition_Or_Malabsorption ['N' 'Y']\n",
            "Risk_Chronic_Liver_Disease ['N' 'Y']\n",
            "Risk_Family_History_Of_Osteoporosis ['N' 'Y']\n",
            "Risk_Low_Calcium_Intake ['N' 'Y']\n",
            "Risk_Vitamin_D_Insufficiency ['N' 'Y']\n",
            "Risk_Poor_Health_Frailty ['N' 'Y']\n",
            "Risk_Excessive_Thinness ['N' 'Y']\n",
            "Risk_Hysterectomy_Oophorectomy ['N' 'Y']\n",
            "Risk_Estrogen_Deficiency ['N' 'Y']\n",
            "Risk_Immobilization ['N' 'Y']\n",
            "Risk_Recurring_Falls ['N' 'Y']\n",
            "Count_Of_Risks [0 2 1 3 4 5 6 7]\n"
          ]
        }
      ]
    },
    {
      "cell_type": "code",
      "source": [
        "#Skews and stats of quant data\n",
        "print(df.skew())\n",
        "print(df.kurtosis())\n",
        "print(df.describe())"
      ],
      "metadata": {
        "colab": {
          "base_uri": "https://localhost:8080/"
        },
        "id": "bFsuT6TK1j8f",
        "outputId": "2f4874f4-32b6-4b01-d896-36f896ae397a"
      },
      "execution_count": 253,
      "outputs": [
        {
          "output_type": "stream",
          "name": "stdout",
          "text": [
            "Dexa_Freq_During_Rx    6.808730\n",
            "Count_Of_Risks         0.879791\n",
            "dtype: float64\n",
            "Dexa_Freq_During_Rx    74.758378\n",
            "Count_Of_Risks          0.900486\n",
            "dtype: float64\n",
            "       Dexa_Freq_During_Rx  Count_Of_Risks\n",
            "count          3424.000000     3424.000000\n",
            "mean              3.016063        1.239486\n",
            "std               8.136545        1.094914\n",
            "min               0.000000        0.000000\n",
            "25%               0.000000        0.000000\n",
            "50%               0.000000        1.000000\n",
            "75%               3.000000        2.000000\n",
            "max             146.000000        7.000000\n"
          ]
        },
        {
          "output_type": "stream",
          "name": "stderr",
          "text": [
            "/usr/local/lib/python3.7/dist-packages/ipykernel_launcher.py:2: FutureWarning: Dropping of nuisance columns in DataFrame reductions (with 'numeric_only=None') is deprecated; in a future version this will raise TypeError.  Select only valid columns before calling the reduction.\n",
            "  \n",
            "/usr/local/lib/python3.7/dist-packages/ipykernel_launcher.py:3: FutureWarning: Dropping of nuisance columns in DataFrame reductions (with 'numeric_only=None') is deprecated; in a future version this will raise TypeError.  Select only valid columns before calling the reduction.\n",
            "  This is separate from the ipykernel package so we can avoid doing imports until\n"
          ]
        }
      ]
    },
    {
      "cell_type": "code",
      "source": [
        "#Percentage of the each unique value\n",
        "col=df.columns\n",
        "\n",
        "for i in col:\n",
        "  print(df[i].value_counts(normalize=True)*100)"
      ],
      "metadata": {
        "colab": {
          "base_uri": "https://localhost:8080/"
        },
        "id": "Bt-pXA8L3mGO",
        "outputId": "1bf718f8-1b14-47ba-c647-68fce2c09d67"
      },
      "execution_count": 254,
      "outputs": [
        {
          "output_type": "stream",
          "name": "stdout",
          "text": [
            "P1       0.029206\n",
            "P2275    0.029206\n",
            "P2277    0.029206\n",
            "P2278    0.029206\n",
            "P2279    0.029206\n",
            "           ...   \n",
            "P1145    0.029206\n",
            "P1146    0.029206\n",
            "P1147    0.029206\n",
            "P1148    0.029206\n",
            "P3424    0.029206\n",
            "Name: Ptid, Length: 3424, dtype: float64\n",
            "Non-Persistent    62.353972\n",
            "Persistent        37.646028\n",
            "Name: Persistency_Flag, dtype: float64\n",
            "Female    94.334112\n",
            "Male       5.665888\n",
            "Name: Gender, dtype: float64\n",
            "Caucasian           91.939252\n",
            "Other/Unknown        2.832944\n",
            "African American     2.774533\n",
            "Asian                2.453271\n",
            "Name: Race, dtype: float64\n",
            "Not Hispanic    94.48014\n",
            "Hispanic         2.86215\n",
            "Unknown          2.65771\n",
            "Name: Ethnicity, dtype: float64\n",
            "Midwest          40.391355\n",
            "South            36.419393\n",
            "West             14.661215\n",
            "Northeast         6.775701\n",
            "Other/Unknown     1.752336\n",
            "Name: Region, dtype: float64\n",
            ">75      42.026869\n",
            "65-75    31.717290\n",
            "55-65    21.407710\n",
            "<55       4.848131\n",
            "Name: Age_Bucket, dtype: float64\n",
            "GENERAL PRACTITIONER                                              44.830607\n",
            "RHEUMATOLOGY                                                      17.640187\n",
            "ENDOCRINOLOGY                                                     13.376168\n",
            "Unknown                                                            9.053738\n",
            "ONCOLOGY                                                           6.571262\n",
            "OBSTETRICS AND GYNECOLOGY                                          2.628505\n",
            "UROLOGY                                                            0.963785\n",
            "ORTHOPEDIC SURGERY                                                 0.876168\n",
            "CARDIOLOGY                                                         0.642523\n",
            "PATHOLOGY                                                          0.467290\n",
            "HEMATOLOGY & ONCOLOGY                                              0.408879\n",
            "OTOLARYNGOLOGY                                                     0.408879\n",
            "PEDIATRICS                                                         0.379673\n",
            "PHYSICAL MEDICINE AND REHABILITATION                               0.321262\n",
            "PULMONARY MEDICINE                                                 0.233645\n",
            "SURGERY AND SURGICAL SPECIALTIES                                   0.233645\n",
            "PSYCHIATRY AND NEUROLOGY                                           0.116822\n",
            "NEPHROLOGY                                                         0.087617\n",
            "ORTHOPEDICS                                                        0.087617\n",
            "PLASTIC SURGERY                                                    0.058411\n",
            "VASCULAR SURGERY                                                   0.058411\n",
            "HOSPICE AND PALLIATIVE MEDICINE                                    0.058411\n",
            "GERIATRIC MEDICINE                                                 0.058411\n",
            "GASTROENTEROLOGY                                                   0.058411\n",
            "TRANSPLANT SURGERY                                                 0.058411\n",
            "CLINICAL NURSE SPECIALIST                                          0.029206\n",
            "OCCUPATIONAL MEDICINE                                              0.029206\n",
            "HOSPITAL MEDICINE                                                  0.029206\n",
            "OPHTHALMOLOGY                                                      0.029206\n",
            "PODIATRY                                                           0.029206\n",
            "EMERGENCY MEDICINE                                                 0.029206\n",
            "RADIOLOGY                                                          0.029206\n",
            "OBSTETRICS & OBSTETRICS & GYNECOLOGY & OBSTETRICS & GYNECOLOGY     0.029206\n",
            "NEUROLOGY                                                          0.029206\n",
            "PAIN MEDICINE                                                      0.029206\n",
            "NUCLEAR MEDICINE                                                   0.029206\n",
            "Name: Ntm_Speciality, dtype: float64\n",
            "Others        58.790888\n",
            "Specialist    41.209112\n",
            "Name: Ntm_Specialist_Flag, dtype: float64\n",
            "OB/GYN/Others/PCP/Unknown    61.448598\n",
            "Endo/Onc/Uro                 20.911215\n",
            "Rheum                        17.640187\n",
            "Name: Ntm_Speciality_Bucket, dtype: float64\n",
            "N    76.489486\n",
            "Y    23.510514\n",
            "Name: Gluco_Record_Prior_Ntm, dtype: float64\n",
            "N    73.656542\n",
            "Y    26.343458\n",
            "Name: Gluco_Record_During_Rx, dtype: float64\n",
            "0     72.663551\n",
            "5      3.329439\n",
            "6      3.125000\n",
            "7      2.716121\n",
            "8      2.073598\n",
            "        ...    \n",
            "23     0.029206\n",
            "27     0.029206\n",
            "81     0.029206\n",
            "37     0.029206\n",
            "29     0.029206\n",
            "Name: Dexa_Freq_During_Rx, Length: 58, dtype: float64\n",
            "N    72.663551\n",
            "Y    27.336449\n",
            "Name: Dexa_During_Rx, dtype: float64\n",
            "N    83.878505\n",
            "Y    16.121495\n",
            "Name: Frag_Frac_Prior_Ntm, dtype: float64\n",
            "N    87.821262\n",
            "Y    12.178738\n",
            "Name: Frag_Frac_During_Rx, dtype: float64\n",
            "VLR_LR    56.396028\n",
            "HR_VHR    43.603972\n",
            "Name: Risk_Segment_Prior_Ntm, dtype: float64\n",
            ">-2.5     56.98014\n",
            "<=-2.5    43.01986\n",
            "Name: Tscore_Bucket_Prior_Ntm, dtype: float64\n",
            "Unknown    43.720794\n",
            "HR_VHR     28.183411\n",
            "VLR_LR     28.095794\n",
            "Name: Risk_Segment_During_Rx, dtype: float64\n",
            "Unknown    43.720794\n",
            "<=-2.5     29.702103\n",
            ">-2.5      26.577103\n",
            "Name: Tscore_Bucket_During_Rx, dtype: float64\n",
            "No change    48.481308\n",
            "Unknown      43.720794\n",
            "Worsened      5.052570\n",
            "Improved      2.745327\n",
            "Name: Change_T_Score, dtype: float64\n",
            "Unknown      65.099299\n",
            "No change    30.724299\n",
            "Worsened      3.533879\n",
            "Improved      0.642523\n",
            "Name: Change_Risk_Segment, dtype: float64\n",
            "Adherent        94.94743\n",
            "Non-Adherent     5.05257\n",
            "Name: Adherent_Flag, dtype: float64\n",
            "Y    74.678738\n",
            "N    25.321262\n",
            "Name: Idn_Indicator, dtype: float64\n",
            "Y    89.252336\n",
            "N    10.747664\n",
            "Name: Injectable_Experience_During_Rx, dtype: float64\n",
            "N    55.227804\n",
            "Y    44.772196\n",
            "Name: Comorb_Encounter_For_Screening_For_Malignant_Neoplasms, dtype: float64\n",
            "N    55.811916\n",
            "Y    44.188084\n",
            "Name: Comorb_Encounter_For_Immunization, dtype: float64\n",
            "N    60.514019\n",
            "Y    39.485981\n",
            "Name: Comorb_Encntr_For_General_Exam_W_O_Complaint,_Susp_Or_Reprtd_Dx, dtype: float64\n",
            "N    68.078271\n",
            "Y    31.921729\n",
            "Name: Comorb_Vitamin_D_Deficiency, dtype: float64\n",
            "N    70.823598\n",
            "Y    29.176402\n",
            "Name: Comorb_Other_Joint_Disorder_Not_Elsewhere_Classified, dtype: float64\n",
            "N    76.898364\n",
            "Y    23.101636\n",
            "Name: Comorb_Encntr_For_Oth_Sp_Exam_W_O_Complaint_Suspected_Or_Reprtd_Dx, dtype: float64\n",
            "N    76.139019\n",
            "Y    23.860981\n",
            "Name: Comorb_Long_Term_Current_Drug_Therapy, dtype: float64\n",
            "N    77.248832\n",
            "Y    22.751168\n",
            "Name: Comorb_Dorsalgia, dtype: float64\n",
            "N    80.227804\n",
            "Y    19.772196\n",
            "Name: Comorb_Personal_History_Of_Other_Diseases_And_Conditions, dtype: float64\n",
            "N    84.871495\n",
            "Y    15.128505\n",
            "Name: Comorb_Other_Disorders_Of_Bone_Density_And_Structure, dtype: float64\n",
            "Y    51.547897\n",
            "N    48.452103\n",
            "Name: Comorb_Disorders_of_lipoprotein_metabolism_and_other_lipidemias, dtype: float64\n",
            "N    73.218458\n",
            "Y    26.781542\n",
            "Name: Comorb_Osteoporosis_without_current_pathological_fracture, dtype: float64\n",
            "N    81.045561\n",
            "Y    18.954439\n",
            "Name: Comorb_Personal_history_of_malignant_neoplasm, dtype: float64\n",
            "N    81.600467\n",
            "Y    18.399533\n",
            "Name: Comorb_Gastro_esophageal_reflux_disease, dtype: float64\n",
            "N    65.478972\n",
            "Y    34.521028\n",
            "Name: Concom_Cholesterol_And_Triglyceride_Regulating_Preparations, dtype: float64\n",
            "N    63.989486\n",
            "Y    36.010514\n",
            "Name: Concom_Narcotics, dtype: float64\n",
            "N    71.582944\n",
            "Y    28.417056\n",
            "Name: Concom_Systemic_Corticosteroids_Plain, dtype: float64\n",
            "N    71.991822\n",
            "Y    28.008178\n",
            "Name: Concom_Anti_Depressants_And_Mood_Stabilisers, dtype: float64\n",
            "N    81.396028\n",
            "Y    18.603972\n",
            "Name: Concom_Fluoroquinolones, dtype: float64\n",
            "N    82.389019\n",
            "Y    17.610981\n",
            "Name: Concom_Cephalosporins, dtype: float64\n",
            "N    83.323598\n",
            "Y    16.676402\n",
            "Name: Concom_Macrolides_And_Similar_Types, dtype: float64\n",
            "N    87.178738\n",
            "Y    12.821262\n",
            "Name: Concom_Broad_Spectrum_Penicillins, dtype: float64\n",
            "N    85.484813\n",
            "Y    14.515187\n",
            "Name: Concom_Anaesthetics_General, dtype: float64\n",
            "N    89.690421\n",
            "Y    10.309579\n",
            "Name: Concom_Viral_Vaccines, dtype: float64\n",
            "N    95.940421\n",
            "Y     4.059579\n",
            "Name: Risk_Type_1_Insulin_Dependent_Diabetes, dtype: float64\n",
            "N    99.912383\n",
            "Y     0.087617\n",
            "Name: Risk_Osteogenesis_Imperfecta, dtype: float64\n",
            "N    96.203271\n",
            "Y     3.796729\n",
            "Name: Risk_Rheumatoid_Arthritis, dtype: float64\n",
            "N    99.941589\n",
            "Y     0.058411\n",
            "Name: Risk_Untreated_Chronic_Hyperthyroidism, dtype: float64\n",
            "N    96.290888\n",
            "Y     3.709112\n",
            "Name: Risk_Untreated_Chronic_Hypogonadism, dtype: float64\n",
            "N    99.649533\n",
            "Y     0.350467\n",
            "Name: Risk_Untreated_Early_Menopause, dtype: float64\n",
            "N    92.523364\n",
            "Y     7.476636\n",
            "Name: Risk_Patient_Parent_Fractured_Their_Hip, dtype: float64\n",
            "N    81.191589\n",
            "Y    18.808411\n",
            "Name: Risk_Smoking_Tobacco, dtype: float64\n",
            "N    86.273364\n",
            "Y    13.726636\n",
            "Name: Risk_Chronic_Malnutrition_Or_Malabsorption, dtype: float64\n",
            "N    99.474299\n",
            "Y     0.525701\n",
            "Name: Risk_Chronic_Liver_Disease, dtype: float64\n",
            "N    89.544393\n",
            "Y    10.455607\n",
            "Name: Risk_Family_History_Of_Osteoporosis, dtype: float64\n",
            "N    98.773364\n",
            "Y     1.226636\n",
            "Name: Risk_Low_Calcium_Intake, dtype: float64\n",
            "N    52.219626\n",
            "Y    47.780374\n",
            "Name: Risk_Vitamin_D_Insufficiency, dtype: float64\n",
            "N    94.392523\n",
            "Y     5.607477\n",
            "Name: Risk_Poor_Health_Frailty, dtype: float64\n",
            "N    98.043224\n",
            "Y     1.956776\n",
            "Name: Risk_Excessive_Thinness, dtype: float64\n",
            "N    98.422897\n",
            "Y     1.577103\n",
            "Name: Risk_Hysterectomy_Oophorectomy, dtype: float64\n",
            "N    99.678738\n",
            "Y     0.321262\n",
            "Name: Risk_Estrogen_Deficiency, dtype: float64\n",
            "N    99.591121\n",
            "Y     0.408879\n",
            "Name: Risk_Immobilization, dtype: float64\n",
            "N    97.984813\n",
            "Y     2.015187\n",
            "Name: Risk_Recurring_Falls, dtype: float64\n",
            "1    36.273364\n",
            "0    28.329439\n",
            "2    22.809579\n",
            "3     9.258178\n",
            "4     2.657710\n",
            "5     0.438084\n",
            "6     0.175234\n",
            "7     0.058411\n",
            "Name: Count_Of_Risks, dtype: float64\n"
          ]
        }
      ]
    },
    {
      "cell_type": "markdown",
      "source": [
        "# **Data Cleansing**"
      ],
      "metadata": {
        "id": "CnZrH_ss-lU-"
      }
    },
    {
      "cell_type": "code",
      "source": [
        "#Function for cleaning the column names\n",
        "\n",
        "def Clean(df):\n",
        "  df.columns=df.columns.str.lower()\n",
        "  df.columns = df.columns.str.replace(' ', '')\n",
        "  df.columns=df.columns.str.replace('[^\\w]','_',regex=True)\n",
        "  return df"
      ],
      "metadata": {
        "id": "jWUmEJghAPwd"
      },
      "execution_count": 255,
      "outputs": []
    },
    {
      "cell_type": "code",
      "source": [
        "#Clean the col names\n",
        "Clean(df)\n",
        "\n",
        "#Drop ptid (index number col)\n",
        "df=df.drop('ptid',axis=1)"
      ],
      "metadata": {
        "id": "wMAfi1Z7Apo_"
      },
      "execution_count": 256,
      "outputs": []
    },
    {
      "cell_type": "code",
      "source": [
        "#Replace Unknowns with NaNs\n",
        "df=df.replace(['Unknown','Other/Unknown'],np.nan)\n",
        "\n",
        "#However, We will use 'unknown' in prescriber speciality - use fillna to undo the change in the column\n",
        "df['ntm_speciality']=df['ntm_speciality'].fillna('UNKNOWN')"
      ],
      "metadata": {
        "id": "0e9N7zKiHDwX"
      },
      "execution_count": 257,
      "outputs": []
    },
    {
      "cell_type": "code",
      "source": [
        "#Delete columns with NaN > 40%\n",
        "threshold=0.4\n",
        "df=df.loc[:, df.isnull().mean()<threshold]\n",
        "\n",
        "#Impute other values using mode\n",
        "for i in df.columns:\n",
        "  df[i] = df[i].fillna(df[i].mode()[0])"
      ],
      "metadata": {
        "id": "Dt0Dr04rKPHJ"
      },
      "execution_count": 258,
      "outputs": []
    },
    {
      "cell_type": "code",
      "source": [
        "#Speciality: Correct the typo in the value\n",
        "\n",
        "df=df.replace('OBSTETRICS & OBSTETRICS & GYNECOLOGY & OBSTETRICS & GYNECOLOGY', 'OBSTETRICS AND GYNECOLOGY')"
      ],
      "metadata": {
        "id": "SBynAyd4BTUf"
      },
      "execution_count": 259,
      "outputs": []
    },
    {
      "cell_type": "code",
      "source": [
        "#Speciality: Use 'OTHER' for values <1.00%\n",
        "series = pd.value_counts(df['ntm_speciality'])\n",
        "mask = (series/series.sum() * 100).lt(1)\n",
        "\n",
        "df['ntm_speciality'] = np.where(df['ntm_speciality'].isin(series[mask].index),'OTHER',df['ntm_speciality'])"
      ],
      "metadata": {
        "id": "GfEjynf4lTzD"
      },
      "execution_count": 260,
      "outputs": []
    },
    {
      "cell_type": "code",
      "source": [
        "# Address outliers in quant varianbles \n",
        "nums=['dexa_freq_during_rx','count_of_risks']\n",
        "\n",
        "for i in nums:\n",
        "  quantiles = df[i].quantile([0.05,0.95]).values\n",
        "  print(i,quantiles)\n",
        "  df[i][df[i] <= quantiles[0]] = quantiles[0]\n",
        "  df[i][df[i] >= quantiles[1]] = quantiles[1]\n",
        "\n",
        "print(df.skew())"
      ],
      "metadata": {
        "colab": {
          "base_uri": "https://localhost:8080/"
        },
        "id": "59mpQdGwOY1O",
        "outputId": "28882fed-a4aa-426a-82d1-895fcd352f98"
      },
      "execution_count": 261,
      "outputs": [
        {
          "output_type": "stream",
          "name": "stdout",
          "text": [
            "dexa_freq_during_rx [ 0. 14.]\n",
            "count_of_risks [0. 3.]\n",
            "dexa_freq_during_rx    1.735419\n",
            "count_of_risks         0.382245\n",
            "dtype: float64\n"
          ]
        },
        {
          "output_type": "stream",
          "name": "stderr",
          "text": [
            "/usr/local/lib/python3.7/dist-packages/ipykernel_launcher.py:7: SettingWithCopyWarning: \n",
            "A value is trying to be set on a copy of a slice from a DataFrame\n",
            "\n",
            "See the caveats in the documentation: https://pandas.pydata.org/pandas-docs/stable/user_guide/indexing.html#returning-a-view-versus-a-copy\n",
            "  import sys\n",
            "/usr/local/lib/python3.7/dist-packages/ipykernel_launcher.py:8: SettingWithCopyWarning: \n",
            "A value is trying to be set on a copy of a slice from a DataFrame\n",
            "\n",
            "See the caveats in the documentation: https://pandas.pydata.org/pandas-docs/stable/user_guide/indexing.html#returning-a-view-versus-a-copy\n",
            "  \n",
            "/usr/local/lib/python3.7/dist-packages/ipykernel_launcher.py:10: FutureWarning: Dropping of nuisance columns in DataFrame reductions (with 'numeric_only=None') is deprecated; in a future version this will raise TypeError.  Select only valid columns before calling the reduction.\n",
            "  # Remove the CWD from sys.path while we load stuff.\n"
          ]
        }
      ]
    },
    {
      "cell_type": "code",
      "source": [
        "unskew1=np.sqrt(df['dexa_freq_during_rx'])\n",
        "unskew1.skew()"
      ],
      "metadata": {
        "colab": {
          "base_uri": "https://localhost:8080/"
        },
        "id": "YLyYwWhuF0XD",
        "outputId": "ea66e0c5-2f42-4280-9334-7e67da187695"
      },
      "execution_count": 262,
      "outputs": [
        {
          "output_type": "execute_result",
          "data": {
            "text/plain": [
              "1.2804098579205285"
            ]
          },
          "metadata": {},
          "execution_count": 262
        }
      ]
    }
  ]
}